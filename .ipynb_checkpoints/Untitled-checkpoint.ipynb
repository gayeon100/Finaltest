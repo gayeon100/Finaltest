{
 "cells": [
  {
   "cell_type": "code",
   "execution_count": null,
   "id": "8dde35c1-8c36-44df-9ad0-cc9f15a7d8ce",
   "metadata": {},
   "outputs": [],
   "source": [
    "import numpy as np\n",
    "import pandas as pd\n",
    "import plotly.express as px\n",
    "import plotly.io as pio\n",
    "import json\n",
    "import requests\n",
    "import pickle"
   ]
  },
  {
   "cell_type": "code",
   "execution_count": null,
   "id": "22442faa-9590-4eca-b36e-95c596db5239",
   "metadata": {},
   "outputs": [],
   "source": [
    "pd.options.plotting.backend = \"plotly\"\n",
    "pio.templates.default = \"plotly_white\""
   ]
  },
  {
   "cell_type": "code",
   "execution_count": null,
   "id": "290c604a-ccb1-4949-a124-e1fc2a574632",
   "metadata": {},
   "outputs": [],
   "source": [
    "df = pd.read_csv(\"https://raw.githubusercontent.com/guebin/DV2023/main/posts/NYCTaxi.csv\").assign(\n",
    "    log_trip_duration = lambda df: np.log(df.trip_duration),\n",
    "    pickup_datetime = lambda df: df.pickup_datetime.apply(pd.to_datetime),\n",
    "    dropoff_datetime = lambda df: df.dropoff_datetime.apply(pd.to_datetime),\n",
    "    dist = lambda df: np.sqrt((df.pickup_latitude-df.dropoff_latitude)**2 + (df.pickup_longitude-df.dropoff_longitude)**2),\n",
    "    #---#\n",
    "    vendor_id = lambda df: df.vendor_id.map({1:'A',2:'B'})\n",
    ").assign(\n",
    "    speed = lambda df: df.dist / df.trip_duration,\n",
    "    pickup_hour = lambda df: df.pickup_datetime.dt.hour,\n",
    "    dropoff_hour = lambda df: df.dropoff_datetime.dt.hour,\n",
    "    dayofweek = lambda df: df.pickup_datetime.dt.dayofweek\n",
    ")\n",
    "df_small = df[::100].reset_index(drop=True)"
   ]
  },
  {
   "cell_type": "code",
   "execution_count": null,
   "id": "5bd2844f-ea7d-4f44-a23c-d67f70c4d0c6",
   "metadata": {},
   "outputs": [],
   "source": [
    "---\n",
    "title: \"NYCTaxi\"\n",
    "author: \"이가연\"\n",
    "format: dashboard\n",
    "execute:\n",
    "  enabled: true\n",
    "  cache: false\n",
    "  freeze: false\n",
    "---"
   ]
  },
  {
   "cell_type": "code",
   "execution_count": null,
   "id": "eb68cc7b-a11b-4d35-ba09-dd7429fe6e93",
   "metadata": {},
   "outputs": [],
   "source": [
    "\n",
    "# 기말고사1-(1),(2)"
   ]
  },
  {
   "cell_type": "code",
   "execution_count": null,
   "id": "1faf62dc-f409-40fa-a0ed-0306af56d840",
   "metadata": {},
   "outputs": [],
   "source": [
    "# | title: 요일,시간에 따른 평균속력 시각화        "
   ]
  },
  {
   "cell_type": "code",
   "execution_count": null,
   "id": "22fb1c0c-e113-4415-9e6e-5bf3f87dc149",
   "metadata": {},
   "outputs": [],
   "source": [
    "day_map = {0: '월', 1: '화', 2: '수', 3: '목', 4: '금', 5: '토', 6: '일'}\n",
    "df_s=df_small.set_index('dayofweek')\\\n",
    ".rename(day_map).reset_index()\n",
    "tidydata = df_s.pivot_table(\n",
    "    index = 'pickup_hour',\n",
    "    columns = 'dayofweek',\n",
    "    values = 'speed',\n",
    "    aggfunc = 'mean'\n",
    ").stack().reset_index().rename({0:'speed_mean'},axis=1)\\\n",
    ".sort_values('dayofweek')\\\n",
    ".rename({'dayofweek':'요일','pickup_hour':'pickup시간'},axis=1)\n",
    "weekday_order = ['월', '화', '수', '목', '금', '토', '일']\n",
    "tidydata['요일'] = pd.Categorical(tidydata['요일'], categories=weekday_order, ordered=True)\n",
    "tidydata = tidydata.sort_values('요일')\n",
    "fig1=px.density_heatmap(\n",
    "    data_frame=tidydata,\n",
    "    x='pickup시간',\n",
    "    y='요일',\n",
    "    z='speed_mean',\n",
    "    nbinsx=24,\n",
    "    nbinsy=7,\n",
    "    height=300\n",
    ")"
   ]
  },
  {
   "cell_type": "code",
   "execution_count": null,
   "id": "2db7f4b3-1d62-4155-b1e6-3e11485aeccb",
   "metadata": {},
   "outputs": [],
   "source": [
    "fig1.show()"
   ]
  },
  {
   "cell_type": "code",
   "execution_count": null,
   "id": "7b495b06-62e3-400b-a9dc-991cb726cbfa",
   "metadata": {},
   "outputs": [],
   "source": [
    "# | title: 요일,시간에 따른 평균이동거리 시각화"
   ]
  },
  {
   "cell_type": "code",
   "execution_count": null,
   "id": "40e54b96-d441-4ac8-afde-e4cf08687db9",
   "metadata": {},
   "outputs": [],
   "source": [
    "tidydata2 = df_s.pivot_table(\n",
    "    index = 'pickup_hour',\n",
    "    columns = 'dayofweek',\n",
    "    values = 'dist',\n",
    "    aggfunc = 'mean'\n",
    ").stack().reset_index().rename({0:'dist_mean'},axis=1)\\\n",
    ".rename({'dayofweek':'요일','pickup_hour':'pickup시간','dist_mean':'평균이동거리'},axis=1)\n",
    "\n",
    "weekday_order = ['월', '화', '수', '목', '금', '토', '일']\n",
    "tidydata2['요일'] = pd.Categorical(tidydata2['요일'], categories=weekday_order, ordered=True)\n",
    "tidydata2 = tidydata2.sort_values('요일').reset_index()\n",
    "fig2=px.density_heatmap(\n",
    "    data_frame=tidydata2,\n",
    "    x='pickup시간',\n",
    "    y='요일',\n",
    "    z='평균이동거리',\n",
    "    nbinsx=24,\n",
    "    nbinsy=7,\n",
    "    height=300\n",
    ")"
   ]
  },
  {
   "cell_type": "code",
   "execution_count": null,
   "id": "e29045f1-817d-4578-b2de-2193b5b08c30",
   "metadata": {},
   "outputs": [],
   "source": [
    "fig2.show()"
   ]
  },
  {
   "cell_type": "code",
   "execution_count": null,
   "id": "1e2047ab-b5c3-48a3-81eb-2ed0b8a5fd7d",
   "metadata": {},
   "outputs": [],
   "source": [
    "# 기말고사1-(3)"
   ]
  },
  {
   "cell_type": "code",
   "execution_count": null,
   "id": "030edd78-6d10-4095-9c1e-8c7fda6c3f56",
   "metadata": {},
   "outputs": [],
   "source": [
    "tidydata3 = df_small.assign(\n",
    "    speed_cut = pd.qcut(df_small.speed,4)\n",
    ").sort_values('speed_cut')\n",
    "pcol = ['pickup_datetime', 'pickup_longitude', 'pickup_latitude', 'pickup_hour']\n",
    "dcol = ['dropoff_datetime', 'dropoff_longitude', 'dropoff_latitude', 'dropoff_hour']\n",
    "def transform(df):\n",
    "    pickup = df.loc[:,['id']+pcol].set_axis(['id', 'datetime', 'longitude', 'latitude', 'hour'],axis=1).assign(type = 'pickup')\n",
    "    dropoff = df.loc[:,['id']+dcol].set_axis(['id', 'datetime', 'longitude', 'latitude', 'hour'],axis=1).assign(type = 'dropoff')\n",
    "    return pd.concat([pickup,dropoff],axis=0)\n",
    "df_left = tidydata3.drop(pcol+dcol,axis=1)\n",
    "df_right = pd.concat([transform(df) for i, df in tidydata3.groupby('id')]).reset_index(drop=True)\n",
    "tidydata3 = df_left.merge(df_right)"
   ]
  },
  {
   "cell_type": "code",
   "execution_count": null,
   "id": "f36ea570-c1bb-4f78-9d28-01c5e7943923",
   "metadata": {},
   "outputs": [],
   "source": [
    "fig = px.line_mapbox(\n",
    "    data_frame=tidydata3,\n",
    "    lat = 'latitude',\n",
    "    lon = 'longitude',\n",
    "    line_group = 'id',\n",
    "    color = 'speed_cut',\n",
    "    center = {'lat':40.7322, 'lon':-73.9052},\n",
    "    #---#\n",
    "    mapbox_style = 'carto-positron',\n",
    "    zoom=10,\n",
    "    width = 750,\n",
    "    height = 600,\n",
    ")\n",
    "scatter_data = px.scatter_mapbox(\n",
    "    data_frame=tidydata3,\n",
    "    lat = 'latitude',\n",
    "    lon = 'longitude',\n",
    "    size = 'passenger_count',\n",
    "    size_max = 10,\n",
    "    color = 'speed_cut',\n",
    "    #---#\n",
    "    mapbox_style = 'carto-positron',\n",
    "    zoom=10,\n",
    "    width = 750,\n",
    "    height = 600\n",
    ").data \n",
    "for sd in scatter_data: \n",
    "    fig.add_trace(sd)\n",
    "fig.update_traces(\n",
    "    line={\n",
    "        'width':1\n",
    "    },\n",
    "    opacity=0.8\n",
    ")\n",
    "fig.show(config={'scrollZoom':False})\n",
    "```"
   ]
  }
 ],
 "metadata": {
  "kernelspec": {
   "display_name": "Python 3 (ipykernel)",
   "language": "python",
   "name": "python3"
  },
  "language_info": {
   "codemirror_mode": {
    "name": "ipython",
    "version": 3
   },
   "file_extension": ".py",
   "mimetype": "text/x-python",
   "name": "python",
   "nbconvert_exporter": "python",
   "pygments_lexer": "ipython3",
   "version": "3.10.13"
  }
 },
 "nbformat": 4,
 "nbformat_minor": 5
}
